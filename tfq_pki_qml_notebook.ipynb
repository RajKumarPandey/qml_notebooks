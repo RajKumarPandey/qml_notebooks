{
  "cells": [
    {
      "cell_type": "markdown",
      "metadata": {
        "id": "view-in-github",
        "colab_type": "text"
      },
      "source": [
        "<a href=\"https://colab.research.google.com/github/RajKumarPandey/qml_notebooks/blob/main/tfq_pki_qml_notebook.ipynb\" target=\"_parent\"><img src=\"https://colab.research.google.com/assets/colab-badge.svg\" alt=\"Open In Colab\"/></a>"
      ]
    },
    {
      "cell_type": "code",
      "execution_count": null,
      "id": "3fd841b1",
      "metadata": {
        "id": "3fd841b1"
      },
      "outputs": [],
      "source": [
        "!pip install tensorflow==2.15.0 tensorflow-quantum==0.7.3 cirq==1.3.0\n",
        "\n",
        "import tensorflow as tf\n",
        "import tensorflow_quantum as tfq\n",
        "import cirq\n",
        "import sympy\n",
        "import numpy as np\n",
        "import pandas as pd\n",
        "from sklearn.preprocessing import MinMaxScaler\n",
        "from sklearn.model_selection import train_test_split\n",
        "from sklearn.metrics import accuracy_score\n",
        "\n",
        "df = pd.read_csv(\"https://raw.githubusercontent.com/RajKumarPandey/qml_notebooks/main/synthetic_pki_dataset.csv\")\n",
        "X = df.drop(\"label\", axis=1).values\n",
        "y = df[\"label\"].values\n",
        "scaler = MinMaxScaler()\n",
        "X_scaled = scaler.fit_transform(X)\n",
        "X_scaled = X_scaled[:, :1]\n",
        "X_train, X_test, y_train, y_test = train_test_split(X_scaled, y, test_size=0.2, random_state=42)\n",
        "\n",
        "qubit = cirq.GridQubit(0, 0)\n",
        "theta = sympy.Symbol(\"theta\")\n",
        "\n",
        "def create_quantum_circuit(x):\n",
        "    circuit = cirq.Circuit()\n",
        "    circuit.append(cirq.rx(float(x))(qubit))\n",
        "    circuit.append(cirq.rx(theta)(qubit))\n",
        "    return circuit\n",
        "\n",
        "train_circuits = [create_quantum_circuit(x[0]) for x in X_train]\n",
        "test_circuits = [create_quantum_circuit(x[0]) for x in X_test]\n",
        "\n",
        "train_x = tfq.convert_to_tensor(train_circuits)\n",
        "test_x = tfq.convert_to_tensor(test_circuits)\n",
        "\n",
        "model = tf.keras.Sequential([\n",
        "    tfq.layers.PQC(cirq.Circuit(cirq.rx(theta)(qubit)), cirq.Z(qubit))\n",
        "])\n",
        "model.compile(optimizer=tf.keras.optimizers.Adam(0.01), loss='mse', metrics=['accuracy'])\n",
        "model.fit(train_x, y_train, batch_size=4, epochs=20)\n",
        "loss, acc = model.evaluate(test_x, y_test)\n",
        "print(\"Test accuracy:\", acc)"
      ]
    }
  ],
  "metadata": {
    "colab": {
      "provenance": [],
      "include_colab_link": true
    },
    "language_info": {
      "name": "python"
    },
    "kernelspec": {
      "name": "python3",
      "display_name": "Python 3"
    }
  },
  "nbformat": 4,
  "nbformat_minor": 5
}