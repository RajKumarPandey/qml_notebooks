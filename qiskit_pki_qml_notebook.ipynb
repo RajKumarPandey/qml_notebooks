{
 "cells": [
  {
   "cell_type": "code",
   "execution_count": null,
   "id": "c358ef43",
   "metadata": {},
   "outputs": [],
   "source": [
    "\n",
    "!pip install qiskit qiskit-machine-learning\n",
    "\n",
    "import pandas as pd\n",
    "from sklearn.model_selection import train_test_split\n",
    "from sklearn.preprocessing import MinMaxScaler\n",
    "from sklearn.metrics import accuracy_score, classification_report\n",
    "from qiskit.circuit.library import ZZFeatureMap\n",
    "from qiskit.utils import QuantumInstance\n",
    "from qiskit import Aer\n",
    "from qiskit_machine_learning.kernels import QuantumKernel\n",
    "from qiskit_machine_learning.algorithms import QSVC\n",
    "\n",
    "df = pd.read_csv(\"synthetic_pki_dataset.csv\")\n",
    "X = df.drop(\"label\", axis=1).values\n",
    "y = df[\"label\"].values\n",
    "scaler = MinMaxScaler()\n",
    "X_scaled = scaler.fit_transform(X)\n",
    "X_train, X_test, y_train, y_test = train_test_split(X_scaled, y, test_size=0.2, random_state=42)\n",
    "\n",
    "feature_map = ZZFeatureMap(feature_dimension=X_train.shape[1], reps=2)\n",
    "quantum_instance = QuantumInstance(Aer.get_backend('qasm_simulator'), shots=1024)\n",
    "kernel = QuantumKernel(feature_map=feature_map, quantum_instance=quantum_instance)\n",
    "qsvc = QSVC(quantum_kernel=kernel)\n",
    "qsvc.fit(X_train, y_train)\n",
    "\n",
    "y_pred = qsvc.predict(X_test)\n",
    "print(\"Accuracy:\", accuracy_score(y_test, y_pred))\n",
    "print(\"Classification Report:\\n\", classification_report(y_test, y_pred))\n"
   ]
  }
 ],
 "metadata": {},
 "nbformat": 4,
 "nbformat_minor": 5
}
