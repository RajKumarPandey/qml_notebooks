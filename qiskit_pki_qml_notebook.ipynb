{
  "cells": [
    {
      "cell_type": "markdown",
      "metadata": {
        "id": "view-in-github",
        "colab_type": "text"
      },
      "source": [
        "<a href=\"https://colab.research.google.com/github/RajKumarPandey/qml_notebooks/blob/main/qiskit_pki_qml_notebook.ipynb\" target=\"_parent\"><img src=\"https://colab.research.google.com/assets/colab-badge.svg\" alt=\"Open In Colab\"/></a>"
      ]
    },
    {
      "cell_type": "code",
      "execution_count": null,
      "id": "c358ef43",
      "metadata": {
        "id": "c358ef43"
      },
      "outputs": [],
      "source": [
        "!pip install qiskit qiskit-machine-learning\n",
        "\n",
        "import pandas as pd\n",
        "from sklearn.model_selection import train_test_split\n",
        "from sklearn.preprocessing import MinMaxScaler\n",
        "from sklearn.metrics import accuracy_score, classification_report\n",
        "from qiskit.circuit.library import ZZFeatureMap\n",
        "from qiskit.primitives import StatevectorSampler\n",
        "from qiskit.providers.basic_provider import BasicProvider\n",
        "from qiskit_machine_learning.kernels import FidelityQuantumKernel\n",
        "from qiskit_machine_learning.algorithms import QSVC\n",
        "import requests\n",
        "\n",
        "\n",
        "csv_url = \"https://raw.githubusercontent.com/RajKumarPandey/qml_notebooks/main/synthetic_pki_dataset.csv\"\n",
        "response = requests.get(csv_url)\n",
        "with open(\"synthetic_pki_dataset.csv\", \"wb\") as f:\n",
        "    f.write(response.content)\n",
        "\n",
        "df = pd.read_csv(\"./synthetic_pki_dataset.csv\")\n",
        "X = df.drop(\"label\", axis=1).values\n",
        "y = df[\"label\"].values\n",
        "scaler = MinMaxScaler()\n",
        "X_scaled = scaler.fit_transform(X)\n",
        "X_train, X_test, y_train, y_test = train_test_split(X_scaled, y, test_size=0.2, random_state=42)\n",
        "\n",
        "feature_map = ZZFeatureMap(feature_dimension=X_train.shape[1], reps=2)\n",
        "\n",
        "sampler = StatevectorSampler()\n",
        "\n",
        "\n",
        "kernel = FidelityQuantumKernel(feature_map=feature_map)\n",
        "\n",
        "\n",
        "qsvc = QSVC(quantum_kernel=kernel)\n",
        "qsvc.fit(X_train, y_train)\n",
        "\n",
        "y_pred = qsvc.predict(X_test)\n",
        "print(\"Accuracy:\", accuracy_score(y_test, y_pred))\n",
        "print(\"Classification Report:\\n\", classification_report(y_test, y_pred))"
      ]
    }
  ],
  "metadata": {
    "colab": {
      "provenance": [],
      "include_colab_link": true
    },
    "language_info": {
      "name": "python"
    },
    "kernelspec": {
      "name": "python3",
      "display_name": "Python 3"
    }
  },
  "nbformat": 4,
  "nbformat_minor": 5
}