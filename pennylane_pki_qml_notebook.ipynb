{
  "cells": [
    {
      "cell_type": "markdown",
      "metadata": {
        "id": "view-in-github",
        "colab_type": "text"
      },
      "source": [
        "<a href=\"https://colab.research.google.com/github/RajKumarPandey/qml_notebooks/blob/main/pennylane_pki_qml_notebook.ipynb\" target=\"_parent\"><img src=\"https://colab.research.google.com/assets/colab-badge.svg\" alt=\"Open In Colab\"/></a>"
      ]
    },
    {
      "cell_type": "code",
      "execution_count": null,
      "id": "5588b5f9",
      "metadata": {
        "id": "5588b5f9"
      },
      "outputs": [],
      "source": [
        "!pip install pennylane\n",
        "\n",
        "import pennylane as qml\n",
        "from pennylane import numpy as np\n",
        "import pandas as pd\n",
        "from sklearn.preprocessing import MinMaxScaler\n",
        "from sklearn.model_selection import train_test_split\n",
        "from sklearn.metrics import accuracy_score\n",
        "\n",
        "# Use the raw link to the CSV file\n",
        "df = pd.read_csv(\"https://raw.githubusercontent.com/RajKumarPandey/qml_notebooks/main/synthetic_pki_dataset.csv\")\n",
        "X = df.drop(\"label\", axis=1).values\n",
        "y = df[\"label\"].values\n",
        "scaler = MinMaxScaler()\n",
        "X_scaled = scaler.fit_transform(X)\n",
        "X_scaled = X_scaled[:, :2]\n",
        "X_train, X_test, y_train, y_test = train_test_split(X_scaled, y, test_size=0.2, random_state=42)\n",
        "\n",
        "dev = qml.device(\"default.qubit\", wires=2)\n",
        "\n",
        "@qml.qnode(dev)\n",
        "def circuit(x, weights):\n",
        "    qml.RY(x[0], wires=0)\n",
        "    qml.RY(x[1], wires=1)\n",
        "    qml.CNOT(wires=[0, 1])\n",
        "    qml.RY(weights[0], wires=0)\n",
        "    qml.RY(weights[1], wires=1)\n",
        "    return qml.expval(qml.PauliZ(1))\n",
        "\n",
        "def cost(weights, features, labels):\n",
        "    predictions = np.array([circuit(x, weights) for x in features]) # Convert predictions to NumPy array\n",
        "    return np.mean((predictions - labels) ** 2)\n",
        "\n",
        "weights = np.array([0.01, 0.01], requires_grad=True)\n",
        "opt = qml.GradientDescentOptimizer(0.2)\n",
        "for _ in range(30):\n",
        "    weights = opt.step(lambda w: cost(w, X_train, y_train), weights)\n",
        "\n",
        "preds = [1 if circuit(x, weights) > 0 else 0 for x in X_test]\n",
        "print(\"Accuracy:\", accuracy_score(y_test, preds))"
      ]
    }
  ],
  "metadata": {
    "colab": {
      "provenance": [],
      "include_colab_link": true
    },
    "language_info": {
      "name": "python"
    },
    "kernelspec": {
      "name": "python3",
      "display_name": "Python 3"
    }
  },
  "nbformat": 4,
  "nbformat_minor": 5
}